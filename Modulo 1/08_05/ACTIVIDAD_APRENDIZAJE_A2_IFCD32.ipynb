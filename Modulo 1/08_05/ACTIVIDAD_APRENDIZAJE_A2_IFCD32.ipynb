{
 "cells": [
  {
   "cell_type": "markdown",
   "id": "7316e690",
   "metadata": {},
   "source": [
    "EJERCICIO 1 – Preguntas de teoría\n",
    "1. ¿Qué diferencias existen entre listas, diccionarios y array?\n",
    "- Listas: Son estructuras de datos ordenadas que permiten almacenar elementos de diferentes tipos. Se accede a los elementos mediante índices.\n",
    "- Diccionarios: Son estructuras de datos no ordenadas que almacenan pares clave-valor. Se accede a los valores mediante las claves.\n",
    "- Arrays: Son estructuras que contienen elementos del mismo tipo y permiten operaciones matemáticas más eficientes. En Python, se utilizan principalmente mediante bibliotecas como NumPy.\n",
    "\n",
    "\n",
    "2. Verdadero o falso: En Python, el tipo de dato entero (int) se utiliza para representar números con decimales.\n",
    "- Falso. Los números con decimales se representan con el tipo float.\n",
    "3. Verdadero o falso: El tipo de dato booleano (bool) se utiliza para representar valores de verdadero o falso.\n",
    "- Verdadero.\n",
    "4. Verdadero o falso: En Python, las listas y las tuplas son tipos de datos mutables, lo que significa que se pueden modificar después de su creación.\n",
    "- Falso. Las listas son mutables, pero las tuplas no.\n",
    "5. Verdadero o falso: El tipo de dato cadena (str) se utiliza para representar texto en Python.\n",
    "- Verdadero.\n"
   ]
  },
  {
   "cell_type": "markdown",
   "id": "f83e1db6",
   "metadata": {},
   "source": [
    "EJERCICIO 2 – Definiciones\n",
    "\n",
    "1. ESTRUCTURA DE CONTROL DE FLUJO CONDICIONAL:\n",
    "- Permite ejecutar diferentes bloques de código dependiendo de si se cumple o no una condición (por ejemplo, if, elif, else en Python).\n",
    "\n",
    "2. ENCODING:\n",
    "- Es el proceso de convertir texto a un formato específico de bytes, por ejemplo, UTF-8, para su almacenamiento o transmisión.\n",
    "\n",
    "3. VARIABLE:\n",
    "- Es un nombre que se asocia a un valor almacenado en memoria, que puede cambiar durante la ejecución del programa.\n",
    "\n",
    "4. ARRAY:\n",
    "- Es una estructura de datos que almacena múltiples elementos del mismo tipo en una secuencia.\n"
   ]
  },
  {
   "cell_type": "markdown",
   "id": "f927ee4c",
   "metadata": {},
   "source": [
    "EJERCICIO 3 – Codificación en Python"
   ]
  },
  {
   "cell_type": "code",
   "execution_count": null,
   "id": "32615f79",
   "metadata": {},
   "outputs": [],
   "source": [
    "# Ejercicio 1: Determinar si un número es par o impar\n",
    "numero = int(input(\"Introduce un número: \"))\n",
    "if numero % 2 == 0:\n",
    "    print(\"Es par\")\n",
    "else:\n",
    "    print(\"Es impar\")"
   ]
  },
  {
   "cell_type": "code",
   "execution_count": null,
   "id": "b3dc9daf",
   "metadata": {},
   "outputs": [],
   "source": [
    "# Ejercicio 2: Calcular el máximo de tres números\n",
    "a = float(input(\"Introduce el primer número: \"))\n",
    "b = float(input(\"Introduce el segundo número: \"))\n",
    "c = float(input(\"Introduce el tercer número: \"))\n",
    "print(\"El número mayor es:\", max(a, b, c))"
   ]
  },
  {
   "cell_type": "code",
   "execution_count": null,
   "id": "a977345f",
   "metadata": {},
   "outputs": [],
   "source": [
    "# Ejercicio 3: Devolver calificación textual según la nota\n",
    "nota = float(input(\"Introduce la nota del alumno: \"))\n",
    "if nota < 5:\n",
    "    print(\"Insuficiente\")\n",
    "elif nota < 6:\n",
    "    print(\"Suficiente\")\n",
    "elif nota < 7:\n",
    "    print(\"Bien\")\n",
    "elif nota < 9:\n",
    "    print(\"Notable\")\n",
    "elif nota <= 10:\n",
    "    print(\"Sobresaliente\")\n",
    "else:\n",
    "    print(\"Nota no válida\")\n"
   ]
  },
  {
   "cell_type": "code",
   "execution_count": null,
   "id": "b5322bc2",
   "metadata": {},
   "outputs": [],
   "source": [
    "# Ejercicio 4: Comprobar si un año es bisiesto\n",
    "anio = int(input(\"Introduce un año: \"))\n",
    "if (anio % 4 == 0 and anio % 100 != 0) or (anio % 400 == 0):\n",
    "    print(\"Es un año bisiesto\")\n",
    "else:\n",
    "    print(\"No es un año bisiesto\")"
   ]
  },
  {
   "cell_type": "markdown",
   "id": "69db42ba",
   "metadata": {},
   "source": [
    "Ejercicio 5: Explicación del código"
   ]
  },
  {
   "cell_type": "code",
   "execution_count": 4,
   "id": "167a9eb6",
   "metadata": {},
   "outputs": [
    {
     "name": "stdout",
     "output_type": "stream",
     "text": [
      "No es un triángulo válido\n"
     ]
    }
   ],
   "source": [
    "lado1 = float(input(\"Introduce el primer lado del triángulo: \"))\n",
    "lado2 = float(input(\"Introduce el segundo lado del triángulo: \"))\n",
    "lado3 = float(input(\"Introduce el tercer lado del triángulo: \"))\n",
    "\n",
    "if lado1 + lado2 > lado3 and lado1 + lado3 > lado2 and lado2 + lado3 > lado1:\n",
    "    print(\"Es un triángulo válido\")\n",
    "else:\n",
    "    print(\"No es un triángulo válido\")\n"
   ]
  },
  {
   "cell_type": "markdown",
   "id": "4c1ec6e8",
   "metadata": {},
   "source": [
    "- Este código solicita tres valores flotantes que representan los lados de un triángulo.\n",
    "- Luego verifica si la suma de dos lados es mayor que el tercero para las tres combinaciones posibles.\n",
    "- Si todas las condiciones se cumplen, se trata de un triángulo válido; de lo contrario, no lo es."
   ]
  }
 ],
 "metadata": {
  "kernelspec": {
   "display_name": "Python 3",
   "language": "python",
   "name": "python3"
  },
  "language_info": {
   "codemirror_mode": {
    "name": "ipython",
    "version": 3
   },
   "file_extension": ".py",
   "mimetype": "text/x-python",
   "name": "python",
   "nbconvert_exporter": "python",
   "pygments_lexer": "ipython3",
   "version": "3.13.3"
  }
 },
 "nbformat": 4,
 "nbformat_minor": 5
}
